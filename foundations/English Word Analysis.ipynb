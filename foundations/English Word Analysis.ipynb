{
 "cells": [
  {
   "cell_type": "code",
   "execution_count": 3,
   "metadata": {},
   "outputs": [
    {
     "data": {
      "text/plain": [
       "'/Users/max/code/data_fellowship/datasets'"
      ]
     },
     "execution_count": 3,
     "metadata": {},
     "output_type": "execute_result"
    }
   ],
   "source": [
    "import pandas as pd\n",
    "import json\n",
    "import os\n",
    "from matplotlib import pyplot as plt\n",
    "\n",
    "os.path.abspath('../datasets')"
   ]
  },
  {
   "cell_type": "code",
   "execution_count": 4,
   "metadata": {},
   "outputs": [],
   "source": [
    "with open(r'../datasets/words_dictionary.json') as f:\n",
    "    words = json.load(f)\n",
    "\n",
    "words = [x for x in words.keys()]"
   ]
  },
  {
   "cell_type": "code",
   "execution_count": 11,
   "metadata": {},
   "outputs": [
    {
     "name": "stdout",
     "output_type": "stream",
     "text": [
      "              length\n",
      "count  370101.000000\n",
      "mean        9.442568\n",
      "std         2.916455\n",
      "min         1.000000\n",
      "25%         7.000000\n",
      "50%         9.000000\n",
      "75%        11.000000\n",
      "max        31.000000\n",
      "    word  length\n",
      "0      a       1\n",
      "1     aa       2\n",
      "2    aaa       3\n",
      "3    aah       3\n",
      "4  aahed       5\n"
     ]
    }
   ],
   "source": [
    "word_df = pd.DataFrame(words, columns=['word'])\n",
    "word_df = word_df.assign(**{'length': [len(x) for x in words]})\n",
    "print(word_df.describe())\n",
    "print(word_df[:5])"
   ]
  },
  {
   "cell_type": "code",
   "execution_count": 18,
   "metadata": {},
   "outputs": [
    {
     "data": {
      "text/plain": [
       "(array([2.6000e+01, 4.2700e+02, 2.1300e+03, 7.1840e+03, 1.5918e+04,\n",
       "        2.9874e+04, 4.1997e+04, 5.1626e+04, 5.3402e+04, 4.5872e+04,\n",
       "        3.7539e+04, 2.9126e+04, 2.0944e+04, 1.4148e+04, 8.8470e+03,\n",
       "        5.1820e+03, 2.9680e+03, 1.4710e+03, 7.6000e+02, 3.5900e+02,\n",
       "        1.6800e+02, 7.4000e+01, 3.1000e+01, 1.2000e+01, 8.0000e+00,\n",
       "        0.0000e+00, 3.0000e+00, 2.0000e+00, 2.0000e+00, 0.0000e+00,\n",
       "        1.0000e+00]),\n",
       " array([ 1.        ,  1.96774194,  2.93548387,  3.90322581,  4.87096774,\n",
       "         5.83870968,  6.80645161,  7.77419355,  8.74193548,  9.70967742,\n",
       "        10.67741935, 11.64516129, 12.61290323, 13.58064516, 14.5483871 ,\n",
       "        15.51612903, 16.48387097, 17.4516129 , 18.41935484, 19.38709677,\n",
       "        20.35483871, 21.32258065, 22.29032258, 23.25806452, 24.22580645,\n",
       "        25.19354839, 26.16129032, 27.12903226, 28.09677419, 29.06451613,\n",
       "        30.03225806, 31.        ]),\n",
       " <a list of 31 Patch objects>)"
      ]
     },
     "execution_count": 18,
     "metadata": {},
     "output_type": "execute_result"
    },
    {
     "data": {
      "image/png": "[encoded data removed]",
      "text/plain": [
       "<Figure size 432x288 with 1 Axes>"
      ]
     },
     "metadata": {},
     "output_type": "display_data"
    }
   ],
   "source": [
    "plt.hist(word_df['length'], bins=31)"
   ]
  },
  {
   "cell_type": "code",
   "execution_count": 24,
   "metadata": {},
   "outputs": [
    {
     "data": {
      "text/plain": [
       "['antidisestablishmentarian',\n",
       " 'demethylchlortetracycline',\n",
       " 'electroencephalographical',\n",
       " 'immunoelectrophoretically',\n",
       " 'microspectrophotometrical',\n",
       " 'philosophicopsychological',\n",
       " 'regeneratoryregeneratress',\n",
       " 'superincomprehensibleness',\n",
       " 'electroencephalographically',\n",
       " 'hydroxydesoxycorticosterone',\n",
       " 'microspectrophotometrically',\n",
       " 'antidisestablishmentarianism',\n",
       " 'hydroxydehydrocorticosterone',\n",
       " 'cyclotrimethylenetrinitramine',\n",
       " 'trinitrophenylmethylnitramine',\n",
       " 'dichlorodiphenyltrichloroethane']"
      ]
     },
     "execution_count": 24,
     "metadata": {},
     "output_type": "execute_result"
    }
   ],
   "source": [
    "sorted([x for x in words if len(x) >= 25], key=lambda x:len(x))"
   ]
  }
 ],
 "metadata": {
  "kernelspec": {
   "display_name": "datafellow",
   "language": "python",
   "name": "datafellow"
  },
  "language_info": {
   "codemirror_mode": {
    "name": "ipython",
    "version": 3
   },
   "file_extension": ".py",
   "mimetype": "text/x-python",
   "name": "python",
   "nbconvert_exporter": "python",
   "pygments_lexer": "ipython3",
   "version": "3.7.0"
  }
 },
 "nbformat": 4,
 "nbformat_minor": 2
}
