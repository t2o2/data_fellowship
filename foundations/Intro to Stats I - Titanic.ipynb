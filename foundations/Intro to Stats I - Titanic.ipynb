{
 "cells": [
  {
   "cell_type": "markdown",
   "metadata": {},
   "source": [
    "# Intro to Stats I - Predict Titanic Survivors\n",
    "\n",
    "The aim is to use random simulation to see if a variable has statistical significance"
   ]
  },
  {
   "cell_type": "markdown",
   "metadata": {},
   "source": [
    "## Import raw data in csv"
   ]
  },
  {
   "cell_type": "code",
   "execution_count": 27,
   "metadata": {},
   "outputs": [
    {
     "data": {
      "text/html": [
       "<div>\n",
       "<style scoped>\n",
       "    .dataframe tbody tr th:only-of-type {\n",
       "        vertical-align: middle;\n",
       "    }\n",
       "\n",
       "    .dataframe tbody tr th {\n",
       "        vertical-align: top;\n",
       "    }\n",
       "\n",
       "    .dataframe thead th {\n",
       "        text-align: right;\n",
       "    }\n",
       "</style>\n",
       "<table border=\"1\" class=\"dataframe\">\n",
       "  <thead>\n",
       "    <tr style=\"text-align: right;\">\n",
       "      <th></th>\n",
       "      <th>PassengerId</th>\n",
       "      <th>Survived</th>\n",
       "      <th>Pclass</th>\n",
       "      <th>Name</th>\n",
       "      <th>Sex</th>\n",
       "      <th>Age</th>\n",
       "      <th>SibSp</th>\n",
       "      <th>Parch</th>\n",
       "      <th>Ticket</th>\n",
       "      <th>Fare</th>\n",
       "      <th>Cabin</th>\n",
       "      <th>Embarked</th>\n",
       "    </tr>\n",
       "  </thead>\n",
       "  <tbody>\n",
       "    <tr>\n",
       "      <th>0</th>\n",
       "      <td>1</td>\n",
       "      <td>0</td>\n",
       "      <td>3</td>\n",
       "      <td>Braund, Mr. Owen Harris</td>\n",
       "      <td>male</td>\n",
       "      <td>22.0</td>\n",
       "      <td>1</td>\n",
       "      <td>0</td>\n",
       "      <td>A/5 21171</td>\n",
       "      <td>7.2500</td>\n",
       "      <td>NaN</td>\n",
       "      <td>S</td>\n",
       "    </tr>\n",
       "    <tr>\n",
       "      <th>1</th>\n",
       "      <td>2</td>\n",
       "      <td>1</td>\n",
       "      <td>1</td>\n",
       "      <td>Cumings, Mrs. John Bradley (Florence Briggs Th...</td>\n",
       "      <td>female</td>\n",
       "      <td>38.0</td>\n",
       "      <td>1</td>\n",
       "      <td>0</td>\n",
       "      <td>PC 17599</td>\n",
       "      <td>71.2833</td>\n",
       "      <td>C85</td>\n",
       "      <td>C</td>\n",
       "    </tr>\n",
       "    <tr>\n",
       "      <th>2</th>\n",
       "      <td>3</td>\n",
       "      <td>1</td>\n",
       "      <td>3</td>\n",
       "      <td>Heikkinen, Miss. Laina</td>\n",
       "      <td>female</td>\n",
       "      <td>26.0</td>\n",
       "      <td>0</td>\n",
       "      <td>0</td>\n",
       "      <td>STON/O2. 3101282</td>\n",
       "      <td>7.9250</td>\n",
       "      <td>NaN</td>\n",
       "      <td>S</td>\n",
       "    </tr>\n",
       "    <tr>\n",
       "      <th>3</th>\n",
       "      <td>4</td>\n",
       "      <td>1</td>\n",
       "      <td>1</td>\n",
       "      <td>Futrelle, Mrs. Jacques Heath (Lily May Peel)</td>\n",
       "      <td>female</td>\n",
       "      <td>35.0</td>\n",
       "      <td>1</td>\n",
       "      <td>0</td>\n",
       "      <td>113803</td>\n",
       "      <td>53.1000</td>\n",
       "      <td>C123</td>\n",
       "      <td>S</td>\n",
       "    </tr>\n",
       "    <tr>\n",
       "      <th>4</th>\n",
       "      <td>5</td>\n",
       "      <td>0</td>\n",
       "      <td>3</td>\n",
       "      <td>Allen, Mr. William Henry</td>\n",
       "      <td>male</td>\n",
       "      <td>35.0</td>\n",
       "      <td>0</td>\n",
       "      <td>0</td>\n",
       "      <td>373450</td>\n",
       "      <td>8.0500</td>\n",
       "      <td>NaN</td>\n",
       "      <td>S</td>\n",
       "    </tr>\n",
       "  </tbody>\n",
       "</table>\n",
       "</div>"
      ],
      "text/plain": [
       "   PassengerId  Survived  Pclass  \\\n",
       "0            1         0       3   \n",
       "1            2         1       1   \n",
       "2            3         1       3   \n",
       "3            4         1       1   \n",
       "4            5         0       3   \n",
       "\n",
       "                                                Name     Sex   Age  SibSp  \\\n",
       "0                            Braund, Mr. Owen Harris    male  22.0      1   \n",
       "1  Cumings, Mrs. John Bradley (Florence Briggs Th...  female  38.0      1   \n",
       "2                             Heikkinen, Miss. Laina  female  26.0      0   \n",
       "3       Futrelle, Mrs. Jacques Heath (Lily May Peel)  female  35.0      1   \n",
       "4                           Allen, Mr. William Henry    male  35.0      0   \n",
       "\n",
       "   Parch            Ticket     Fare Cabin Embarked  \n",
       "0      0         A/5 21171   7.2500   NaN        S  \n",
       "1      0          PC 17599  71.2833   C85        C  \n",
       "2      0  STON/O2. 3101282   7.9250   NaN        S  \n",
       "3      0            113803  53.1000  C123        S  \n",
       "4      0            373450   8.0500   NaN        S  "
      ]
     },
     "execution_count": 27,
     "metadata": {},
     "output_type": "execute_result"
    }
   ],
   "source": [
    "import pandas as pd\n",
    "import random\n",
    "import numpy as np\n",
    "from scipy import stats\n",
    "from matplotlib import pyplot as plt\n",
    "\n",
    "titanic_df = pd.read_csv('../datasets/titanic.csv')\n",
    "titanic_df.iloc[:5]"
   ]
  },
  {
   "cell_type": "code",
   "execution_count": 28,
   "metadata": {},
   "outputs": [
    {
     "name": "stdout",
     "output_type": "stream",
     "text": [
      "Total count - 891, Female - 314, Male - 577\n"
     ]
    },
    {
     "data": {
      "text/plain": [
       "(0.7420382165605095, 0.18890814558058924)"
      ]
     },
     "execution_count": 28,
     "metadata": {},
     "output_type": "execute_result"
    }
   ],
   "source": [
    "def get_sex_survival_rate(df):\n",
    "    female_df = df[df['Sex'] == 'female']\n",
    "    male_df = df[df['Sex'] == 'male']\n",
    "    total_female = len(female_df)\n",
    "    total_male = len(male_df)\n",
    "    total_count = len(df)\n",
    "    female_survival_rate = len(female_df[female_df['Survived'] == 1]) / total_female\n",
    "    male_survival_rate = len(male_df[male_df['Survived'] == 1]) / total_male\n",
    "    return female_survival_rate, male_survival_rate\n",
    "\n",
    "total_count = len(titanic_df)\n",
    "total_female = len(titanic_df[titanic_df.Sex == 'female'])\n",
    "total_male = len(titanic_df[titanic_df.Sex == 'male'])\n",
    "print('Total count - {}, Female - {}, Male - {}'.format(total_count, total_female, total_male))\n",
    "get_sex_survival_rate(titanic_df)"
   ]
  },
  {
   "cell_type": "markdown",
   "metadata": {},
   "source": [
    "# Hypothesis\n",
    "\n",
    "Null Hypothesis: **High female survival rate is purely due to chance**\n",
    "\n",
    "Randomly assign survival rates to people and see the stats generated by random survival rate"
   ]
  },
  {
   "cell_type": "code",
   "execution_count": 29,
   "metadata": {},
   "outputs": [
    {
     "data": {
      "text/html": [
       "<div>\n",
       "<style scoped>\n",
       "    .dataframe tbody tr th:only-of-type {\n",
       "        vertical-align: middle;\n",
       "    }\n",
       "\n",
       "    .dataframe tbody tr th {\n",
       "        vertical-align: top;\n",
       "    }\n",
       "\n",
       "    .dataframe thead th {\n",
       "        text-align: right;\n",
       "    }\n",
       "</style>\n",
       "<table border=\"1\" class=\"dataframe\">\n",
       "  <thead>\n",
       "    <tr style=\"text-align: right;\">\n",
       "      <th></th>\n",
       "      <th>F survival</th>\n",
       "      <th>M survival</th>\n",
       "    </tr>\n",
       "  </thead>\n",
       "  <tbody>\n",
       "    <tr>\n",
       "      <th>count</th>\n",
       "      <td>1000.000000</td>\n",
       "      <td>1000.000000</td>\n",
       "    </tr>\n",
       "    <tr>\n",
       "      <th>mean</th>\n",
       "      <td>0.499296</td>\n",
       "      <td>0.500901</td>\n",
       "    </tr>\n",
       "    <tr>\n",
       "      <th>std</th>\n",
       "      <td>0.027088</td>\n",
       "      <td>0.020596</td>\n",
       "    </tr>\n",
       "    <tr>\n",
       "      <th>min</th>\n",
       "      <td>0.414013</td>\n",
       "      <td>0.440208</td>\n",
       "    </tr>\n",
       "    <tr>\n",
       "      <th>25%</th>\n",
       "      <td>0.480892</td>\n",
       "      <td>0.487002</td>\n",
       "    </tr>\n",
       "    <tr>\n",
       "      <th>50%</th>\n",
       "      <td>0.500000</td>\n",
       "      <td>0.500867</td>\n",
       "    </tr>\n",
       "    <tr>\n",
       "      <th>75%</th>\n",
       "      <td>0.519108</td>\n",
       "      <td>0.514731</td>\n",
       "    </tr>\n",
       "    <tr>\n",
       "      <th>max</th>\n",
       "      <td>0.598726</td>\n",
       "      <td>0.570191</td>\n",
       "    </tr>\n",
       "  </tbody>\n",
       "</table>\n",
       "</div>"
      ],
      "text/plain": [
       "        F survival   M survival\n",
       "count  1000.000000  1000.000000\n",
       "mean      0.499296     0.500901\n",
       "std       0.027088     0.020596\n",
       "min       0.414013     0.440208\n",
       "25%       0.480892     0.487002\n",
       "50%       0.500000     0.500867\n",
       "75%       0.519108     0.514731\n",
       "max       0.598726     0.570191"
      ]
     },
     "execution_count": 29,
     "metadata": {},
     "output_type": "execute_result"
    }
   ],
   "source": [
    "iterations = 1000\n",
    "\n",
    "simulation_result = []\n",
    "test_df = titanic_df.copy(deep=True)\n",
    "for i in range(iterations):\n",
    "    survived = [1 if random.random() > 0.5 else 0 for x in range(total_count)]\n",
    "    test_df['Survived'] = pd.DataFrame(survived)\n",
    "    rates = get_sex_survival_rate(test_df)\n",
    "    simulation_result.append(rates)\n",
    "\n",
    "sim_df = pd.DataFrame(simulation_result, columns=['F survival', 'M survival'])\n",
    "sim_df.describe()"
   ]
  },
  {
   "cell_type": "code",
   "execution_count": 30,
   "metadata": {},
   "outputs": [
    {
     "name": "stdout",
     "output_type": "stream",
     "text": [
      "The chance of 74.2% female will survive at random is 0.00%\n",
      "The chance of 18.89% male will survive at random is 0.00%\n"
     ]
    }
   ],
   "source": [
    "f_sample_test = stats.ttest_1samp(sim_df['F survival'], 0.742).pvalue\n",
    "m_sample_test = stats.ttest_1samp(sim_df['M survival'], 0.1889).pvalue\n",
    "print('The chance of 74.2% female will survive at random is {:.2f}%'.format(f_sample_test * 100))\n",
    "print('The chance of 18.89% male will survive at random is {:.2f}%'.format(m_sample_test * 100))"
   ]
  },
  {
   "cell_type": "code",
   "execution_count": 31,
   "metadata": {},
   "outputs": [
    {
     "data": {
      "text/plain": [
       "Text(0,0.5,'Female Survival')"
      ]
     },
     "execution_count": 31,
     "metadata": {},
     "output_type": "execute_result"
    },
    {
     "data": {
      "image/png": "[encoded data removed]",
      "text/plain": [
       "<Figure size 432x288 with 2 Axes>"
      ]
     },
     "metadata": {},
     "output_type": "display_data"
    }
   ],
   "source": [
    "f, ax = plt.subplots(2, 1)\n",
    "f.suptitle('Survival rate on Sex')\n",
    "ax[0].hist(sim_df['M survival'], bins=20)\n",
    "ax[0].set_ylabel('Male Survival')\n",
    "ax[1].hist(sim_df['F survival'], bins=20)\n",
    "ax[1].set_ylabel('Female Survival')"
   ]
  },
  {
   "cell_type": "code",
   "execution_count": 32,
   "metadata": {},
   "outputs": [
    {
     "data": {
      "text/plain": [
       "(array([  2.,  16.,  43., 105., 223., 239., 216., 108.,  40.,   8.]),\n",
       " array([-0.12062723, -0.0987918 , -0.07695636, -0.05512093, -0.0332855 ,\n",
       "        -0.01145007,  0.01038537,  0.0322208 ,  0.05405623,  0.07589166,\n",
       "         0.0977271 ]),\n",
       " <a list of 10 Patch objects>)"
      ]
     },
     "execution_count": 32,
     "metadata": {},
     "output_type": "execute_result"
    },
    {
     "data": {
      "image/png": "[encoded data removed]",
      "text/plain": [
       "<Figure size 432x288 with 2 Axes>"
      ]
     },
     "metadata": {},
     "output_type": "display_data"
    }
   ],
   "source": [
    "f, ax = plt.subplots(2, 1)\n",
    "f.suptitle('Survival rate difference across simulations')\n",
    "diff_in_survival = (sim_df['F survival'] - sim_df['M survival'])\n",
    "ax[0].plot(diff_in_survival * 100)\n",
    "ax[0].set_ylabel('Diff in %')\n",
    "ax[1].hist(diff_in_survival)"
   ]
  },
  {
   "cell_type": "code",
   "execution_count": 33,
   "metadata": {},
   "outputs": [
    {
     "data": {
      "text/plain": [
       "count    1000.000000\n",
       "mean       -0.001605\n",
       "std         0.034044\n",
       "min        -0.120627\n",
       "25%        -0.024670\n",
       "50%        -0.001148\n",
       "75%         0.020841\n",
       "max         0.097727\n",
       "dtype: float64"
      ]
     },
     "execution_count": 33,
     "metadata": {},
     "output_type": "execute_result"
    }
   ],
   "source": [
    "diff_in_survival.describe()"
   ]
  },
  {
   "cell_type": "markdown",
   "metadata": {},
   "source": [
    "Difference in survial rate between male and female during simulation has a std of 3.57%. Even with 3*std, the difference between survival rate should be around 10%. However the actual survial rate were 74.2% and 18.89%, a gap that is much bigger than 10%. As the p-value shows, the chance of this happening at random is 0.0%"
   ]
  },
  {
   "cell_type": "markdown",
   "metadata": {},
   "source": [
    "# Test other parameters"
   ]
  },
  {
   "cell_type": "code",
   "execution_count": 34,
   "metadata": {},
   "outputs": [
    {
     "data": {
      "text/html": [
       "<div>\n",
       "<style scoped>\n",
       "    .dataframe tbody tr th:only-of-type {\n",
       "        vertical-align: middle;\n",
       "    }\n",
       "\n",
       "    .dataframe tbody tr th {\n",
       "        vertical-align: top;\n",
       "    }\n",
       "\n",
       "    .dataframe thead th {\n",
       "        text-align: right;\n",
       "    }\n",
       "</style>\n",
       "<table border=\"1\" class=\"dataframe\">\n",
       "  <thead>\n",
       "    <tr style=\"text-align: right;\">\n",
       "      <th></th>\n",
       "      <th>PassengerId</th>\n",
       "      <th>Survived</th>\n",
       "      <th>Pclass</th>\n",
       "      <th>Name</th>\n",
       "      <th>Sex</th>\n",
       "      <th>Age</th>\n",
       "      <th>SibSp</th>\n",
       "      <th>Parch</th>\n",
       "      <th>Ticket</th>\n",
       "      <th>Fare</th>\n",
       "      <th>Cabin</th>\n",
       "      <th>Embarked</th>\n",
       "    </tr>\n",
       "  </thead>\n",
       "  <tbody>\n",
       "    <tr>\n",
       "      <th>0</th>\n",
       "      <td>1</td>\n",
       "      <td>0</td>\n",
       "      <td>3</td>\n",
       "      <td>Braund, Mr. Owen Harris</td>\n",
       "      <td>male</td>\n",
       "      <td>22.0</td>\n",
       "      <td>1</td>\n",
       "      <td>0</td>\n",
       "      <td>A/5 21171</td>\n",
       "      <td>7.2500</td>\n",
       "      <td>NaN</td>\n",
       "      <td>S</td>\n",
       "    </tr>\n",
       "    <tr>\n",
       "      <th>1</th>\n",
       "      <td>2</td>\n",
       "      <td>1</td>\n",
       "      <td>1</td>\n",
       "      <td>Cumings, Mrs. John Bradley (Florence Briggs Th...</td>\n",
       "      <td>female</td>\n",
       "      <td>38.0</td>\n",
       "      <td>1</td>\n",
       "      <td>0</td>\n",
       "      <td>PC 17599</td>\n",
       "      <td>71.2833</td>\n",
       "      <td>C85</td>\n",
       "      <td>C</td>\n",
       "    </tr>\n",
       "    <tr>\n",
       "      <th>2</th>\n",
       "      <td>3</td>\n",
       "      <td>1</td>\n",
       "      <td>3</td>\n",
       "      <td>Heikkinen, Miss. Laina</td>\n",
       "      <td>female</td>\n",
       "      <td>26.0</td>\n",
       "      <td>0</td>\n",
       "      <td>0</td>\n",
       "      <td>STON/O2. 3101282</td>\n",
       "      <td>7.9250</td>\n",
       "      <td>NaN</td>\n",
       "      <td>S</td>\n",
       "    </tr>\n",
       "    <tr>\n",
       "      <th>3</th>\n",
       "      <td>4</td>\n",
       "      <td>1</td>\n",
       "      <td>1</td>\n",
       "      <td>Futrelle, Mrs. Jacques Heath (Lily May Peel)</td>\n",
       "      <td>female</td>\n",
       "      <td>35.0</td>\n",
       "      <td>1</td>\n",
       "      <td>0</td>\n",
       "      <td>113803</td>\n",
       "      <td>53.1000</td>\n",
       "      <td>C123</td>\n",
       "      <td>S</td>\n",
       "    </tr>\n",
       "    <tr>\n",
       "      <th>4</th>\n",
       "      <td>5</td>\n",
       "      <td>0</td>\n",
       "      <td>3</td>\n",
       "      <td>Allen, Mr. William Henry</td>\n",
       "      <td>male</td>\n",
       "      <td>35.0</td>\n",
       "      <td>0</td>\n",
       "      <td>0</td>\n",
       "      <td>373450</td>\n",
       "      <td>8.0500</td>\n",
       "      <td>NaN</td>\n",
       "      <td>S</td>\n",
       "    </tr>\n",
       "  </tbody>\n",
       "</table>\n",
       "</div>"
      ],
      "text/plain": [
       "   PassengerId  Survived  Pclass  \\\n",
       "0            1         0       3   \n",
       "1            2         1       1   \n",
       "2            3         1       3   \n",
       "3            4         1       1   \n",
       "4            5         0       3   \n",
       "\n",
       "                                                Name     Sex   Age  SibSp  \\\n",
       "0                            Braund, Mr. Owen Harris    male  22.0      1   \n",
       "1  Cumings, Mrs. John Bradley (Florence Briggs Th...  female  38.0      1   \n",
       "2                             Heikkinen, Miss. Laina  female  26.0      0   \n",
       "3       Futrelle, Mrs. Jacques Heath (Lily May Peel)  female  35.0      1   \n",
       "4                           Allen, Mr. William Henry    male  35.0      0   \n",
       "\n",
       "   Parch            Ticket     Fare Cabin Embarked  \n",
       "0      0         A/5 21171   7.2500   NaN        S  \n",
       "1      0          PC 17599  71.2833   C85        C  \n",
       "2      0  STON/O2. 3101282   7.9250   NaN        S  \n",
       "3      0            113803  53.1000  C123        S  \n",
       "4      0            373450   8.0500   NaN        S  "
      ]
     },
     "execution_count": 34,
     "metadata": {},
     "output_type": "execute_result"
    }
   ],
   "source": [
    "titanic_df[:5]"
   ]
  },
  {
   "cell_type": "markdown",
   "metadata": {},
   "source": [
    "## Hypothesis on Age\n",
    "\n",
    "See whether the babies are indeed had a higher survial rate than randomness suggest\n",
    "\n",
    "Null hypothesis: ** Survival rate for age group between 0 and 5 has an average survial rate **"
   ]
  },
  {
   "cell_type": "code",
   "execution_count": 39,
   "metadata": {},
   "outputs": [
    {
     "data": {
      "text/plain": [
       "(array([27., 11.,  7., 34., 39., 38., 40., 33., 18., 16., 14.,  6.,  6.,\n",
       "         0.,  0.,  0.,  1.,  0.,  0.]),\n",
       " array([ 0,  5, 10, 15, 20, 25, 30, 35, 40, 45, 50, 55, 60, 65, 70, 75, 80,\n",
       "        85, 90, 95]),\n",
       " <a list of 19 Patch objects>)"
      ]
     },
     "execution_count": 39,
     "metadata": {},
     "output_type": "execute_result"
    },
    {
     "data": {
      "image/png": "[encoded data removed]",
      "text/plain": [
       "<Figure size 432x288 with 1 Axes>"
      ]
     },
     "metadata": {},
     "output_type": "display_data"
    }
   ],
   "source": [
    "age_df = titanic_df[['Age', 'Survived']]\n",
    "age_df = age_df[[~np.isnan(x) for x in age_df['Age']]]\n",
    "survived_age_df = age_df[age_df['Survived'] == 1]\n",
    "\n",
    "age_buckets = [x for x in range(0, 100, 5)]\n",
    "\n",
    "plt.hist(survived_age_df['Age'], bins=age_buckets)"
   ]
  },
  {
   "cell_type": "markdown",
   "metadata": {},
   "source": [
    "Based on the distribution chart, it does seem to indicate that babies has a higher survival number. Investigate the actual survival rate for each age bucket next."
   ]
  },
  {
   "cell_type": "code",
   "execution_count": 40,
   "metadata": {},
   "outputs": [
    {
     "data": {
      "text/plain": [
       "<BarContainer object of 19 artists>"
      ]
     },
     "execution_count": 40,
     "metadata": {},
     "output_type": "execute_result"
    },
    {
     "data": {
      "image/png": "[encoded data removed]",
      "text/plain": [
       "<Figure size 432x288 with 1 Axes>"
      ]
     },
     "metadata": {},
     "output_type": "display_data"
    }
   ],
   "source": [
    "def get_age_survival_rate(df, buckets):\n",
    "    survival_list = []\n",
    "    for i in range(len(buckets) - 1):\n",
    "        age_min = buckets[i]\n",
    "        age_max = buckets[i+1]\n",
    "        bucket_df = df[age_min <= df['Age']]\n",
    "        bucket_df = bucket_df[bucket_df['Age'] < age_max]\n",
    "        bucket_total = len(bucket_df)\n",
    "        bucket_survived = len(bucket_df[bucket_df['Survived'] == 1])\n",
    "        if bucket_total == 0:\n",
    "            survive_rate = 0\n",
    "        else:\n",
    "            survive_rate = bucket_survived / bucket_total\n",
    "        survival_list.append(survive_rate)\n",
    "    return survival_list\n",
    "\n",
    "age_survival_rate = get_age_survival_rate(age_df, age_buckets)\n",
    "\n",
    "f, ax = plt.subplots(1, 1)\n",
    "ax.set_title('Survival rate based on Age')\n",
    "ax.bar(x=age_buckets[:-1], height=age_survival_rate, width=3)"
   ]
  },
  {
   "cell_type": "markdown",
   "metadata": {},
   "source": [
    "Run random simulation and determine whether the survival rate for age group 0-5 is caused by randomness."
   ]
  },
  {
   "cell_type": "code",
   "execution_count": 41,
   "metadata": {
    "scrolled": true
   },
   "outputs": [
    {
     "data": {
      "text/html": [
       "<div>\n",
       "<style scoped>\n",
       "    .dataframe tbody tr th:only-of-type {\n",
       "        vertical-align: middle;\n",
       "    }\n",
       "\n",
       "    .dataframe tbody tr th {\n",
       "        vertical-align: top;\n",
       "    }\n",
       "\n",
       "    .dataframe thead th {\n",
       "        text-align: right;\n",
       "    }\n",
       "</style>\n",
       "<table border=\"1\" class=\"dataframe\">\n",
       "  <thead>\n",
       "    <tr style=\"text-align: right;\">\n",
       "      <th></th>\n",
       "      <th>0-5</th>\n",
       "      <th>5-10</th>\n",
       "      <th>10-15</th>\n",
       "      <th>15-20</th>\n",
       "      <th>20-25</th>\n",
       "      <th>25-30</th>\n",
       "      <th>30-35</th>\n",
       "      <th>35-40</th>\n",
       "      <th>40-45</th>\n",
       "      <th>45-50</th>\n",
       "      <th>50-55</th>\n",
       "      <th>55-60</th>\n",
       "      <th>60-65</th>\n",
       "      <th>65-70</th>\n",
       "      <th>70-75</th>\n",
       "      <th>75-80</th>\n",
       "      <th>80-85</th>\n",
       "      <th>85-90</th>\n",
       "      <th>90-95</th>\n",
       "    </tr>\n",
       "  </thead>\n",
       "  <tbody>\n",
       "    <tr>\n",
       "      <th>count</th>\n",
       "      <td>100.000000</td>\n",
       "      <td>100.000000</td>\n",
       "      <td>100.000000</td>\n",
       "      <td>100.000000</td>\n",
       "      <td>100.000000</td>\n",
       "      <td>100.000000</td>\n",
       "      <td>100.000000</td>\n",
       "      <td>100.000000</td>\n",
       "      <td>100.000000</td>\n",
       "      <td>100.000000</td>\n",
       "      <td>100.000000</td>\n",
       "      <td>100.000000</td>\n",
       "      <td>100.000000</td>\n",
       "      <td>100.000000</td>\n",
       "      <td>100.000000</td>\n",
       "      <td>100.0</td>\n",
       "      <td>100.000000</td>\n",
       "      <td>100.0</td>\n",
       "      <td>100.0</td>\n",
       "    </tr>\n",
       "    <tr>\n",
       "      <th>mean</th>\n",
       "      <td>0.507000</td>\n",
       "      <td>0.494545</td>\n",
       "      <td>0.527500</td>\n",
       "      <td>0.502093</td>\n",
       "      <td>0.503684</td>\n",
       "      <td>0.506226</td>\n",
       "      <td>0.499158</td>\n",
       "      <td>0.505278</td>\n",
       "      <td>0.502083</td>\n",
       "      <td>0.502195</td>\n",
       "      <td>0.495937</td>\n",
       "      <td>0.519375</td>\n",
       "      <td>0.499333</td>\n",
       "      <td>0.507500</td>\n",
       "      <td>0.503333</td>\n",
       "      <td>0.0</td>\n",
       "      <td>0.480000</td>\n",
       "      <td>0.0</td>\n",
       "      <td>0.0</td>\n",
       "    </tr>\n",
       "    <tr>\n",
       "      <th>std</th>\n",
       "      <td>0.075301</td>\n",
       "      <td>0.105820</td>\n",
       "      <td>0.117623</td>\n",
       "      <td>0.050520</td>\n",
       "      <td>0.048259</td>\n",
       "      <td>0.044718</td>\n",
       "      <td>0.053948</td>\n",
       "      <td>0.055863</td>\n",
       "      <td>0.067815</td>\n",
       "      <td>0.073873</td>\n",
       "      <td>0.087113</td>\n",
       "      <td>0.120072</td>\n",
       "      <td>0.129402</td>\n",
       "      <td>0.266986</td>\n",
       "      <td>0.215791</td>\n",
       "      <td>0.0</td>\n",
       "      <td>0.502117</td>\n",
       "      <td>0.0</td>\n",
       "      <td>0.0</td>\n",
       "    </tr>\n",
       "    <tr>\n",
       "      <th>min</th>\n",
       "      <td>0.325000</td>\n",
       "      <td>0.227273</td>\n",
       "      <td>0.250000</td>\n",
       "      <td>0.383721</td>\n",
       "      <td>0.342105</td>\n",
       "      <td>0.396226</td>\n",
       "      <td>0.368421</td>\n",
       "      <td>0.333333</td>\n",
       "      <td>0.333333</td>\n",
       "      <td>0.341463</td>\n",
       "      <td>0.312500</td>\n",
       "      <td>0.250000</td>\n",
       "      <td>0.133333</td>\n",
       "      <td>0.000000</td>\n",
       "      <td>0.000000</td>\n",
       "      <td>0.0</td>\n",
       "      <td>0.000000</td>\n",
       "      <td>0.0</td>\n",
       "      <td>0.0</td>\n",
       "    </tr>\n",
       "    <tr>\n",
       "      <th>25%</th>\n",
       "      <td>0.450000</td>\n",
       "      <td>0.409091</td>\n",
       "      <td>0.437500</td>\n",
       "      <td>0.476744</td>\n",
       "      <td>0.473684</td>\n",
       "      <td>0.471698</td>\n",
       "      <td>0.452632</td>\n",
       "      <td>0.458333</td>\n",
       "      <td>0.458333</td>\n",
       "      <td>0.463415</td>\n",
       "      <td>0.437500</td>\n",
       "      <td>0.437500</td>\n",
       "      <td>0.400000</td>\n",
       "      <td>0.250000</td>\n",
       "      <td>0.333333</td>\n",
       "      <td>0.0</td>\n",
       "      <td>0.000000</td>\n",
       "      <td>0.0</td>\n",
       "      <td>0.0</td>\n",
       "    </tr>\n",
       "    <tr>\n",
       "      <th>50%</th>\n",
       "      <td>0.500000</td>\n",
       "      <td>0.500000</td>\n",
       "      <td>0.562500</td>\n",
       "      <td>0.500000</td>\n",
       "      <td>0.500000</td>\n",
       "      <td>0.504717</td>\n",
       "      <td>0.505263</td>\n",
       "      <td>0.506944</td>\n",
       "      <td>0.500000</td>\n",
       "      <td>0.512195</td>\n",
       "      <td>0.484375</td>\n",
       "      <td>0.500000</td>\n",
       "      <td>0.533333</td>\n",
       "      <td>0.500000</td>\n",
       "      <td>0.500000</td>\n",
       "      <td>0.0</td>\n",
       "      <td>0.000000</td>\n",
       "      <td>0.0</td>\n",
       "      <td>0.0</td>\n",
       "    </tr>\n",
       "    <tr>\n",
       "      <th>75%</th>\n",
       "      <td>0.556250</td>\n",
       "      <td>0.590909</td>\n",
       "      <td>0.625000</td>\n",
       "      <td>0.534884</td>\n",
       "      <td>0.537281</td>\n",
       "      <td>0.540094</td>\n",
       "      <td>0.536842</td>\n",
       "      <td>0.555556</td>\n",
       "      <td>0.541667</td>\n",
       "      <td>0.560976</td>\n",
       "      <td>0.562500</td>\n",
       "      <td>0.625000</td>\n",
       "      <td>0.600000</td>\n",
       "      <td>0.750000</td>\n",
       "      <td>0.666667</td>\n",
       "      <td>0.0</td>\n",
       "      <td>1.000000</td>\n",
       "      <td>0.0</td>\n",
       "      <td>0.0</td>\n",
       "    </tr>\n",
       "    <tr>\n",
       "      <th>max</th>\n",
       "      <td>0.725000</td>\n",
       "      <td>0.727273</td>\n",
       "      <td>0.812500</td>\n",
       "      <td>0.616279</td>\n",
       "      <td>0.587719</td>\n",
       "      <td>0.622642</td>\n",
       "      <td>0.631579</td>\n",
       "      <td>0.694444</td>\n",
       "      <td>0.645833</td>\n",
       "      <td>0.707317</td>\n",
       "      <td>0.687500</td>\n",
       "      <td>0.750000</td>\n",
       "      <td>0.733333</td>\n",
       "      <td>1.000000</td>\n",
       "      <td>1.000000</td>\n",
       "      <td>0.0</td>\n",
       "      <td>1.000000</td>\n",
       "      <td>0.0</td>\n",
       "      <td>0.0</td>\n",
       "    </tr>\n",
       "  </tbody>\n",
       "</table>\n",
       "</div>"
      ],
      "text/plain": [
       "              0-5        5-10       10-15       15-20       20-25       25-30  \\\n",
       "count  100.000000  100.000000  100.000000  100.000000  100.000000  100.000000   \n",
       "mean     0.507000    0.494545    0.527500    0.502093    0.503684    0.506226   \n",
       "std      0.075301    0.105820    0.117623    0.050520    0.048259    0.044718   \n",
       "min      0.325000    0.227273    0.250000    0.383721    0.342105    0.396226   \n",
       "25%      0.450000    0.409091    0.437500    0.476744    0.473684    0.471698   \n",
       "50%      0.500000    0.500000    0.562500    0.500000    0.500000    0.504717   \n",
       "75%      0.556250    0.590909    0.625000    0.534884    0.537281    0.540094   \n",
       "max      0.725000    0.727273    0.812500    0.616279    0.587719    0.622642   \n",
       "\n",
       "            30-35       35-40       40-45       45-50       50-55       55-60  \\\n",
       "count  100.000000  100.000000  100.000000  100.000000  100.000000  100.000000   \n",
       "mean     0.499158    0.505278    0.502083    0.502195    0.495937    0.519375   \n",
       "std      0.053948    0.055863    0.067815    0.073873    0.087113    0.120072   \n",
       "min      0.368421    0.333333    0.333333    0.341463    0.312500    0.250000   \n",
       "25%      0.452632    0.458333    0.458333    0.463415    0.437500    0.437500   \n",
       "50%      0.505263    0.506944    0.500000    0.512195    0.484375    0.500000   \n",
       "75%      0.536842    0.555556    0.541667    0.560976    0.562500    0.625000   \n",
       "max      0.631579    0.694444    0.645833    0.707317    0.687500    0.750000   \n",
       "\n",
       "            60-65       65-70       70-75  75-80       80-85  85-90  90-95  \n",
       "count  100.000000  100.000000  100.000000  100.0  100.000000  100.0  100.0  \n",
       "mean     0.499333    0.507500    0.503333    0.0    0.480000    0.0    0.0  \n",
       "std      0.129402    0.266986    0.215791    0.0    0.502117    0.0    0.0  \n",
       "min      0.133333    0.000000    0.000000    0.0    0.000000    0.0    0.0  \n",
       "25%      0.400000    0.250000    0.333333    0.0    0.000000    0.0    0.0  \n",
       "50%      0.533333    0.500000    0.500000    0.0    0.000000    0.0    0.0  \n",
       "75%      0.600000    0.750000    0.666667    0.0    1.000000    0.0    0.0  \n",
       "max      0.733333    1.000000    1.000000    0.0    1.000000    0.0    0.0  "
      ]
     },
     "execution_count": 41,
     "metadata": {},
     "output_type": "execute_result"
    }
   ],
   "source": [
    "iterations = 100\n",
    "\n",
    "simulation_result = []\n",
    "test_df = age_df.copy(deep=True)\n",
    "for i in range(iterations):\n",
    "    survived = [1 if random.random() > 0.5 else 0 for x in range(total_count)]\n",
    "    test_df['Survived'] = pd.DataFrame(survived)\n",
    "    rates = get_age_survival_rate(test_df, age_buckets)\n",
    "    simulation_result.append(rates)\n",
    "\n",
    "labels = []\n",
    "for i in range(len(age_buckets)-1):\n",
    "    labels.append('{}-{}'.format(age_buckets[i], age_buckets[i+1]))\n",
    "sim_df = pd.DataFrame(simulation_result, columns=labels)\n",
    "sim_df.describe()"
   ]
  },
  {
   "cell_type": "code",
   "execution_count": 42,
   "metadata": {
    "scrolled": true
   },
   "outputs": [
    {
     "name": "stdout",
     "output_type": "stream",
     "text": [
      "The chance of 67.50% aged 0-5 will survive at random is 1.28%\n",
      "The chance of 50.00% aged 5-10 will survive at random is 47.94%\n",
      "The chance of 43.75% aged 10-15 will survive at random is 22.21%\n",
      "The chance of 39.53% aged 15-20 will survive at random is 1.73%\n",
      "The chance of 34.21% aged 20-25 will survive at random is 0.04%\n",
      "The chance of 35.85% aged 25-30 will survive at random is 0.05%\n",
      "The chance of 42.11% aged 30-35 will survive at random is 7.38%\n",
      "The chance of 45.83% aged 35-40 will survive at random is 20.04%\n",
      "The chance of 37.50% aged 40-45 will survive at random is 3.05%\n",
      "The chance of 39.02% aged 45-50 will survive at random is 6.48%\n",
      "The chance of 43.75% aged 50-55 will survive at random is 25.12%\n",
      "The chance of 37.50% aged 55-60 will survive at random is 11.46%\n",
      "The chance of 40.00% aged 60-65 will survive at random is 22.14%\n",
      "The chance of 0.00% aged 65-70 will survive at random is 2.87%\n",
      "The chance of 0.00% aged 70-75 will survive at random is 0.98%\n",
      "The chance of 100.00% aged 80-85 will survive at random is 15.02%\n"
     ]
    }
   ],
   "source": [
    "rates = get_age_survival_rate(age_df, age_buckets)\n",
    "for l, r in zip(labels, rates):\n",
    "    if sim_df[l].std() == 0:\n",
    "        continue\n",
    "    delta_from_mean = abs(r - sim_df[l].mean()) / sim_df[l].std()\n",
    "    sample_test = 1 - stats.norm.cdf(delta_from_mean)\n",
    "    print('The chance of {:.2f}% aged {} will survive at random is {:.2f}%'.format(r * 100, l, sample_test * 100))"
   ]
  },
  {
   "cell_type": "code",
   "execution_count": null,
   "metadata": {},
   "outputs": [],
   "source": []
  }
 ],
 "metadata": {
  "kernelspec": {
   "display_name": "Python 3",
   "language": "python",
   "name": "python3"
  },
  "language_info": {
   "codemirror_mode": {
    "name": "ipython",
    "version": 3
   },
   "file_extension": ".py",
   "mimetype": "text/x-python",
   "name": "python",
   "nbconvert_exporter": "python",
   "pygments_lexer": "ipython3",
   "version": "3.6.5"
  }
 },
 "nbformat": 4,
 "nbformat_minor": 2
}
